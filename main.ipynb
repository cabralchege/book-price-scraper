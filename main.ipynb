{
 "cells": [
  {
   "cell_type": "markdown",
   "id": "20704ee4",
   "metadata": {},
   "source": [
    "# Scraping Book Prices"
   ]
  },
  {
   "cell_type": "code",
   "execution_count": 13,
   "id": "129a28a9",
   "metadata": {},
   "outputs": [],
   "source": [
    "# Importing all the relevant libraries and modules\n",
    "import requests\n",
    "from bs4 import BeautifulSoup\n",
    "import lxml\n",
    "import csv\n",
    "import json"
   ]
  },
  {
   "cell_type": "code",
   "execution_count": 14,
   "id": "b82d1a68",
   "metadata": {},
   "outputs": [],
   "source": [
    "# The url link to the website being scraped\n",
    "url = \"https://books.toscrape.com/\""
   ]
  },
  {
   "cell_type": "code",
   "execution_count": 15,
   "id": "4d7e30e5",
   "metadata": {},
   "outputs": [
    {
     "name": "stdout",
     "output_type": "stream",
     "text": [
      "Posts can be fetched\n"
     ]
    }
   ],
   "source": [
    "response = requests.get(url)\n",
    "if response.status_code == 200:\n",
    "    print(\"Posts can be fetched\")"
   ]
  },
  {
   "cell_type": "code",
   "execution_count": 30,
   "id": "7b73f958",
   "metadata": {},
   "outputs": [],
   "source": [
    "# Storing the pages contents\n",
    "src = response.content\n",
    "# print(src)\n",
    "\n",
    "# Create a soup object using beautiful soup from the contnt\n",
    "soup = BeautifulSoup(src, \"lxml\")\n",
    "\n",
    "# Find all ordered lists\n",
    "lists = soup.find_all('li', class_=\"col-xs-6 col-sm-4 col-md-3 col-lg-3\")\n",
    "# print(lists)"
   ]
  },
  {
   "cell_type": "code",
   "execution_count": 37,
   "id": "8d307d5a",
   "metadata": {},
   "outputs": [],
   "source": [
    "# A function that returns the book title and its price and stores it in a list\n",
    "books = []\n",
    "def get_books():\n",
    "    \"\"\"\n",
    "    This functions gets the books from the product-pod and obtains the titles and prices in pounds\n",
    "    and stores them\n",
    "    \"\"\" \n",
    "    # \n",
    "    for book in soup.find_all('article', class_=\"product_pod\")[:15]:\n",
    "        # Finding the book titles inside the h3 tags\n",
    "        book_title = book.h3.a['title'] \n",
    "        \n",
    "        # Finding the book prices inside the p tags\n",
    "        book_price = book.find('p', class_=\"price_color\").text\n",
    "\n",
    "        # Storing the book title and price in a dictionary\n",
    "        books.append({\"title\": book_title, \"price\": book_price})\n",
    "    \n",
    "    return books\n",
    "  "
   ]
  },
  {
   "cell_type": "code",
   "execution_count": null,
   "id": "e9fc13b5",
   "metadata": {},
   "outputs": [],
   "source": [
    "# Storing  the books in a csv file\n",
    "with open('books.csv', 'w') as file:\n",
    "    writer = csv.writer(file)\n",
    "    # The header row\n",
    "    writer.writerow([\"Title\", \"Price\"])\n",
    "    # The data rows\n",
    "    for book in books:\n",
    "        writer.writerow([book['book_title'], PRI['book_price']])\n",
    "        print(\"bOOKS STORED\")\n",
    "        "
   ]
  },
  {
   "cell_type": "code",
   "execution_count": 42,
   "id": "166b52e0",
   "metadata": {},
   "outputs": [
    {
     "data": {
      "text/plain": [
       "[{'title': 'A Light in the Attic', 'price': '£51.77'},\n",
       " {'title': 'Tipping the Velvet', 'price': '£53.74'},\n",
       " {'title': 'Soumission', 'price': '£50.10'},\n",
       " {'title': 'Sharp Objects', 'price': '£47.82'},\n",
       " {'title': 'Sapiens: A Brief History of Humankind', 'price': '£54.23'},\n",
       " {'title': 'The Requiem Red', 'price': '£22.65'},\n",
       " {'title': 'The Dirty Little Secrets of Getting Your Dream Job',\n",
       "  'price': '£33.34'},\n",
       " {'title': 'The Coming Woman: A Novel Based on the Life of the Infamous Feminist, Victoria Woodhull',\n",
       "  'price': '£17.93'},\n",
       " {'title': 'The Boys in the Boat: Nine Americans and Their Epic Quest for Gold at the 1936 Berlin Olympics',\n",
       "  'price': '£22.60'},\n",
       " {'title': 'The Black Maria', 'price': '£52.15'},\n",
       " {'title': 'Starving Hearts (Triangular Trade Trilogy, #1)',\n",
       "  'price': '£13.99'},\n",
       " {'title': \"Shakespeare's Sonnets\", 'price': '£20.66'},\n",
       " {'title': 'Set Me Free', 'price': '£17.46'},\n",
       " {'title': \"Scott Pilgrim's Precious Little Life (Scott Pilgrim #1)\",\n",
       "  'price': '£52.29'},\n",
       " {'title': 'Rip it Up and Start Again', 'price': '£35.02'}]"
      ]
     },
     "execution_count": 42,
     "metadata": {},
     "output_type": "execute_result"
    }
   ],
   "source": [
    "# Called the function to return the book title and price\n",
    "get_books()"
   ]
  }
 ],
 "metadata": {
  "kernelspec": {
   "display_name": "venv",
   "language": "python",
   "name": "python3"
  },
  "language_info": {
   "codemirror_mode": {
    "name": "ipython",
    "version": 3
   },
   "file_extension": ".py",
   "mimetype": "text/x-python",
   "name": "python",
   "nbconvert_exporter": "python",
   "pygments_lexer": "ipython3",
   "version": "3.13.7"
  }
 },
 "nbformat": 4,
 "nbformat_minor": 5
}
